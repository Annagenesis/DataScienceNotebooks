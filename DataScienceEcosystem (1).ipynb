{
 "cells": [
  {
   "cell_type": "markdown",
   "id": "f1516349-de36-40e7-bbb0-f0e9f5db6a7f",
   "metadata": {},
   "source": [
    "# Data Science Tools and Ecosystem"
   ]
  },
  {
   "cell_type": "markdown",
   "id": "dc14f19c-2e48-42e3-bd62-d3dd6530fa0e",
   "metadata": {},
   "source": [
    "In this notebook, Data Science Tools and Ecosystem are summarized."
   ]
  },
  {
   "cell_type": "markdown",
   "id": "82f56ca0-2eb2-4d98-b238-ae891c2ed3bb",
   "metadata": {},
   "source": [
    "Some of the commonly used libraries used by Data Scientists, including those relevant to IBM, include:\n",
    "1. Pandas\n",
    "2. NumPy\n",
    "3. Scikit-learn\n",
    "4. IBM-Watson-Machine-Learning\n",
    "5. Pyspark"
   ]
  },
  {
   "cell_type": "markdown",
   "id": "61b62b4d-9345-4f21-9094-05fe051e189c",
   "metadata": {},
   "source": [
    "| Data Science Tools |\r\n",
    "| ------------------ |\r\n",
    "| Jupyter Notebooks  |\r\n",
    "| RStudio            |\r\n",
    "| Apache Zeppelin    |"
   ]
  },
  {
   "cell_type": "markdown",
   "id": "0e03ae7f-2ac6-4e6e-b36f-e4f7f5cd7638",
   "metadata": {},
   "source": [
    "### Below are a few examples of evaluating arithmetic expressions in Python.\n"
   ]
  },
  {
   "cell_type": "code",
   "execution_count": null,
   "id": "4cba098c-5a78-410d-b9d2-bfc89b14a5f7",
   "metadata": {},
   "outputs": [],
   "source": []
  },
  {
   "cell_type": "code",
   "execution_count": 5,
   "id": "825ced52-1690-433f-ba8c-f6d5a4f7145e",
   "metadata": {},
   "outputs": [
    {
     "data": {
      "text/plain": [
       "17"
      ]
     },
     "execution_count": 5,
     "metadata": {},
     "output_type": "execute_result"
    }
   ],
   "source": [
    "# This is a simple arithmetic expression to multiply then add integers.\n",
    "(3 * 4) + 5"
   ]
  },
  {
   "cell_type": "code",
   "execution_count": 6,
   "id": "b937337a-54ed-4d75-b5af-5e9b760cd030",
   "metadata": {},
   "outputs": [
    {
     "data": {
      "text/plain": [
       "3.3333333333333335"
      ]
     },
     "execution_count": 6,
     "metadata": {},
     "output_type": "execute_result"
    }
   ],
   "source": [
    "# This will convert 200 minutes to hours by dividing by 60.\n",
    "minutes = 200\n",
    "hours = minutes / 60\n",
    "hours"
   ]
  },
  {
   "cell_type": "markdown",
   "id": "83b84856-2169-464b-9744-f6d428f3b1ab",
   "metadata": {},
   "source": [
    "**Objectives:**\n",
    "\n",
    "* List popular languages for Data Science\n",
    "* Commonly used Data Science libraries\n",
    "* Data Science tools\n",
    "* Jupyter architecture"
   ]
  },
  {
   "cell_type": "markdown",
   "id": "b7643881-11e7-45fb-a04e-81c5cf67ab84",
   "metadata": {},
   "source": [
    "## Author\r",
    "Anna Nikie"
   ]
  },
  {
   "cell_type": "code",
   "execution_count": null,
   "id": "bf436725-24c4-4d3a-8950-2460a358f3a6",
   "metadata": {},
   "outputs": [],
   "source": []
  }
 ],
 "metadata": {
  "kernelspec": {
   "display_name": "anaconda-panel-2023.05-py310",
   "language": "python",
   "name": "conda-env-anaconda-panel-2023.05-py310-py"
  },
  "language_info": {
   "codemirror_mode": {
    "name": "ipython",
    "version": 3
   },
   "file_extension": ".py",
   "mimetype": "text/x-python",
   "name": "python",
   "nbconvert_exporter": "python",
   "pygments_lexer": "ipython3",
   "version": "3.11.5"
  }
 },
 "nbformat": 4,
 "nbformat_minor": 5
}
